{
 "cells": [
  {
   "attachments": {},
   "cell_type": "markdown",
   "metadata": {},
   "source": [
    "# Get Quandl Data"
   ]
  },
  {
   "attachments": {},
   "cell_type": "markdown",
   "metadata": {},
   "source": [
    "\n",
    "This Python code retrieves historical price data for gold and the S&P 500 using the Quandl API and the Pandas library.\n",
    "\n",
    "First, the code imports the `pandas`, `quandl`, and `matplotlib.pyplot` libraries using the import keyword.\n",
    "\n",
    "Next, the code defines the start date and end date for the price data using the `start_date`` and end_date` variables. The start date is set to January 1, 2010, while the end date is set to the current date using the `pd.Timestamp.today()` function and the `strftime()` method to format the date string.\n",
    "\n",
    "The `quandl.get()` function is then used to retrieve the historical price data for gold and the S&P 500 from Quandl. The first argument of the `quandl.get()` function specifies the Quandl code for the data, while the `start_date` and `end_date` arguments specify the date range for the data.\n",
    "\n",
    "The Quandl code `\"LBMA/GOLD\"` is used to retrieve the historical price data for gold, while `\"MULTPL/SP500_REAL_PRICE_MONTH\"` is used to retrieve the historical price data for the S&P 500. The resulting data is returned as Pandas DataFrames `gold_data` and `sp500_data`.\n",
    "\n"
   ]
  },
  {
   "cell_type": "code",
   "execution_count": 2,
   "metadata": {},
   "outputs": [
    {
     "ename": "LimitExceededError",
     "evalue": "(Status 429) (Quandl Error QELx01) You have exceeded the anonymous user limit of 50 calls per day. To make more calls today, please register for a free Nasdaq Data Link account and then include your API key with your requests.",
     "output_type": "error",
     "traceback": [
      "\u001b[0;31m---------------------------------------------------------------------------\u001b[0m",
      "\u001b[0;31mLimitExceededError\u001b[0m                        Traceback (most recent call last)",
      "\u001b[1;32m/Users/christianmartinez/Downloads/ECON417/project/getData.ipynb Cell 3\u001b[0m in \u001b[0;36m1\n\u001b[1;32m      <a href='vscode-notebook-cell:/Users/christianmartinez/Downloads/ECON417/project/getData.ipynb#W2sZmlsZQ%3D%3D?line=7'>8</a>\u001b[0m end_date \u001b[39m=\u001b[39m pd\u001b[39m.\u001b[39mTimestamp\u001b[39m.\u001b[39mtoday()\u001b[39m.\u001b[39mstrftime(\u001b[39m\"\u001b[39m\u001b[39m%\u001b[39m\u001b[39mY-\u001b[39m\u001b[39m%\u001b[39m\u001b[39mm-\u001b[39m\u001b[39m%d\u001b[39;00m\u001b[39m\"\u001b[39m)\n\u001b[1;32m     <a href='vscode-notebook-cell:/Users/christianmartinez/Downloads/ECON417/project/getData.ipynb#W2sZmlsZQ%3D%3D?line=9'>10</a>\u001b[0m \u001b[39m# Retrieve the historical price data for gold and SP500\u001b[39;00m\n\u001b[0;32m---> <a href='vscode-notebook-cell:/Users/christianmartinez/Downloads/ECON417/project/getData.ipynb#W2sZmlsZQ%3D%3D?line=10'>11</a>\u001b[0m gold_data \u001b[39m=\u001b[39m quandl\u001b[39m.\u001b[39;49mget(\u001b[39m\"\u001b[39;49m\u001b[39mLBMA/GOLD\u001b[39;49m\u001b[39m\"\u001b[39;49m, start_date\u001b[39m=\u001b[39;49mstart_date, end_date\u001b[39m=\u001b[39;49mend_date)\n\u001b[1;32m     <a href='vscode-notebook-cell:/Users/christianmartinez/Downloads/ECON417/project/getData.ipynb#W2sZmlsZQ%3D%3D?line=11'>12</a>\u001b[0m sp500_data \u001b[39m=\u001b[39m quandl\u001b[39m.\u001b[39mget(\u001b[39m\"\u001b[39m\u001b[39mMULTPL/SP500_REAL_PRICE_MONTH\u001b[39m\u001b[39m\"\u001b[39m, start_date\u001b[39m=\u001b[39mstart_date, end_date\u001b[39m=\u001b[39mend_date)\n",
      "File \u001b[0;32m/opt/homebrew/lib/python3.10/site-packages/quandl/get.py:48\u001b[0m, in \u001b[0;36mget\u001b[0;34m(dataset, **kwargs)\u001b[0m\n\u001b[1;32m     46\u001b[0m     \u001b[39mif\u001b[39;00m dataset_args[\u001b[39m'\u001b[39m\u001b[39mcolumn_index\u001b[39m\u001b[39m'\u001b[39m] \u001b[39mis\u001b[39;00m \u001b[39mnot\u001b[39;00m \u001b[39mNone\u001b[39;00m:\n\u001b[1;32m     47\u001b[0m         kwargs\u001b[39m.\u001b[39mupdate({\u001b[39m'\u001b[39m\u001b[39mcolumn_index\u001b[39m\u001b[39m'\u001b[39m: dataset_args[\u001b[39m'\u001b[39m\u001b[39mcolumn_index\u001b[39m\u001b[39m'\u001b[39m]})\n\u001b[0;32m---> 48\u001b[0m     data \u001b[39m=\u001b[39m Dataset(dataset_args[\u001b[39m'\u001b[39;49m\u001b[39mcode\u001b[39;49m\u001b[39m'\u001b[39;49m])\u001b[39m.\u001b[39;49mdata(params\u001b[39m=\u001b[39;49mkwargs, handle_column_not_found\u001b[39m=\u001b[39;49m\u001b[39mTrue\u001b[39;49;00m)\n\u001b[1;32m     49\u001b[0m \u001b[39m# Array\u001b[39;00m\n\u001b[1;32m     50\u001b[0m \u001b[39melif\u001b[39;00m \u001b[39misinstance\u001b[39m(dataset, \u001b[39mlist\u001b[39m):\n",
      "File \u001b[0;32m/opt/homebrew/lib/python3.10/site-packages/quandl/model/dataset.py:47\u001b[0m, in \u001b[0;36mDataset.data\u001b[0;34m(self, **options)\u001b[0m\n\u001b[1;32m     45\u001b[0m updated_options \u001b[39m=\u001b[39m Util\u001b[39m.\u001b[39mmerge_options(\u001b[39m'\u001b[39m\u001b[39mparams\u001b[39m\u001b[39m'\u001b[39m, params, \u001b[39m*\u001b[39m\u001b[39m*\u001b[39moptions)\n\u001b[1;32m     46\u001b[0m \u001b[39mtry\u001b[39;00m:\n\u001b[0;32m---> 47\u001b[0m     \u001b[39mreturn\u001b[39;00m Data\u001b[39m.\u001b[39;49mall(\u001b[39m*\u001b[39;49m\u001b[39m*\u001b[39;49mupdated_options)\n\u001b[1;32m     48\u001b[0m \u001b[39mexcept\u001b[39;00m NotFoundError:\n\u001b[1;32m     49\u001b[0m     \u001b[39mif\u001b[39;00m handle_not_found_error:\n",
      "File \u001b[0;32m/opt/homebrew/lib/python3.10/site-packages/quandl/operations/list.py:15\u001b[0m, in \u001b[0;36mListOperation.all\u001b[0;34m(cls, **options)\u001b[0m\n\u001b[1;32m     13\u001b[0m     options[\u001b[39m'\u001b[39m\u001b[39mparams\u001b[39m\u001b[39m'\u001b[39m] \u001b[39m=\u001b[39m {}\n\u001b[1;32m     14\u001b[0m path \u001b[39m=\u001b[39m Util\u001b[39m.\u001b[39mconstructed_path(\u001b[39mcls\u001b[39m\u001b[39m.\u001b[39mlist_path(), options[\u001b[39m'\u001b[39m\u001b[39mparams\u001b[39m\u001b[39m'\u001b[39m])\n\u001b[0;32m---> 15\u001b[0m r \u001b[39m=\u001b[39m Connection\u001b[39m.\u001b[39;49mrequest(\u001b[39m'\u001b[39;49m\u001b[39mget\u001b[39;49m\u001b[39m'\u001b[39;49m, path, \u001b[39m*\u001b[39;49m\u001b[39m*\u001b[39;49moptions)\n\u001b[1;32m     16\u001b[0m response_data \u001b[39m=\u001b[39m r\u001b[39m.\u001b[39mjson()\n\u001b[1;32m     17\u001b[0m Util\u001b[39m.\u001b[39mconvert_to_dates(response_data)\n",
      "File \u001b[0;32m/opt/homebrew/lib/python3.10/site-packages/quandl/connection.py:38\u001b[0m, in \u001b[0;36mConnection.request\u001b[0;34m(cls, http_verb, url, **options)\u001b[0m\n\u001b[1;32m     34\u001b[0m options[\u001b[39m'\u001b[39m\u001b[39mheaders\u001b[39m\u001b[39m'\u001b[39m] \u001b[39m=\u001b[39m headers\n\u001b[1;32m     36\u001b[0m abs_url \u001b[39m=\u001b[39m \u001b[39m'\u001b[39m\u001b[39m%s\u001b[39;00m\u001b[39m/\u001b[39m\u001b[39m%s\u001b[39;00m\u001b[39m'\u001b[39m \u001b[39m%\u001b[39m (ApiConfig\u001b[39m.\u001b[39mapi_base, url)\n\u001b[0;32m---> 38\u001b[0m \u001b[39mreturn\u001b[39;00m \u001b[39mcls\u001b[39;49m\u001b[39m.\u001b[39;49mexecute_request(http_verb, abs_url, \u001b[39m*\u001b[39;49m\u001b[39m*\u001b[39;49moptions)\n",
      "File \u001b[0;32m/opt/homebrew/lib/python3.10/site-packages/quandl/connection.py:50\u001b[0m, in \u001b[0;36mConnection.execute_request\u001b[0;34m(cls, http_verb, url, **options)\u001b[0m\n\u001b[1;32m     45\u001b[0m response \u001b[39m=\u001b[39m session\u001b[39m.\u001b[39mrequest(method\u001b[39m=\u001b[39mhttp_verb,\n\u001b[1;32m     46\u001b[0m                            url\u001b[39m=\u001b[39murl,\n\u001b[1;32m     47\u001b[0m                            verify\u001b[39m=\u001b[39mApiConfig\u001b[39m.\u001b[39mverify_ssl,\n\u001b[1;32m     48\u001b[0m                            \u001b[39m*\u001b[39m\u001b[39m*\u001b[39moptions)\n\u001b[1;32m     49\u001b[0m \u001b[39mif\u001b[39;00m response\u001b[39m.\u001b[39mstatus_code \u001b[39m<\u001b[39m \u001b[39m200\u001b[39m \u001b[39mor\u001b[39;00m response\u001b[39m.\u001b[39mstatus_code \u001b[39m>\u001b[39m\u001b[39m=\u001b[39m \u001b[39m300\u001b[39m:\n\u001b[0;32m---> 50\u001b[0m     \u001b[39mcls\u001b[39;49m\u001b[39m.\u001b[39;49mhandle_api_error(response)\n\u001b[1;32m     51\u001b[0m \u001b[39melse\u001b[39;00m:\n\u001b[1;32m     52\u001b[0m     \u001b[39mreturn\u001b[39;00m response\n",
      "File \u001b[0;32m/opt/homebrew/lib/python3.10/site-packages/quandl/connection.py:114\u001b[0m, in \u001b[0;36mConnection.handle_api_error\u001b[0;34m(cls, resp)\u001b[0m\n\u001b[1;32m    103\u001b[0m d_klass \u001b[39m=\u001b[39m {\n\u001b[1;32m    104\u001b[0m     \u001b[39m'\u001b[39m\u001b[39mL\u001b[39m\u001b[39m'\u001b[39m: LimitExceededError,\n\u001b[1;32m    105\u001b[0m     \u001b[39m'\u001b[39m\u001b[39mM\u001b[39m\u001b[39m'\u001b[39m: InternalServerError,\n\u001b[0;32m   (...)\u001b[0m\n\u001b[1;32m    110\u001b[0m     \u001b[39m'\u001b[39m\u001b[39mX\u001b[39m\u001b[39m'\u001b[39m: ServiceUnavailableError\n\u001b[1;32m    111\u001b[0m }\n\u001b[1;32m    112\u001b[0m klass \u001b[39m=\u001b[39m d_klass\u001b[39m.\u001b[39mget(code_letter, QuandlError)\n\u001b[0;32m--> 114\u001b[0m \u001b[39mraise\u001b[39;00m klass(message, resp\u001b[39m.\u001b[39mstatus_code, resp\u001b[39m.\u001b[39mtext, resp\u001b[39m.\u001b[39mheaders, code)\n",
      "\u001b[0;31mLimitExceededError\u001b[0m: (Status 429) (Quandl Error QELx01) You have exceeded the anonymous user limit of 50 calls per day. To make more calls today, please register for a free Nasdaq Data Link account and then include your API key with your requests."
     ]
    }
   ],
   "source": [
    "\n",
    "import pandas as pd\n",
    "import quandl\n",
    "import matplotlib.pyplot as plt\n",
    "\n",
    "\n",
    "# Define the start and end dates\n",
    "start_date = \"2010-01-01\"\n",
    "end_date = pd.Timestamp.today().strftime(\"%Y-%m-%d\")\n",
    "\n",
    "# Retrieve the historical price data for gold and SP500\n",
    "gold_data = quandl.get(\"LBMA/GOLD\", start_date=start_date, end_date=end_date)\n",
    "sp500_data = quandl.get(\"MULTPL/SP500_REAL_PRICE_MONTH\", start_date=start_date, end_date=end_date)\n",
    "\n"
   ]
  },
  {
   "attachments": {},
   "cell_type": "markdown",
   "metadata": {},
   "source": [
    "Let's plot the data as a time series using the `plot()` method of the `gold_data` and `sp500_data` DataFrames."
   ]
  },
  {
   "cell_type": "code",
   "execution_count": 56,
   "metadata": {},
   "outputs": [
    {
     "data": {
      "text/plain": [
       "<matplotlib.legend.Legend at 0x14ac04eb0>"
      ]
     },
     "execution_count": 56,
     "metadata": {},
     "output_type": "execute_result"
    },
    {
     "data": {
      "image/png": "[encoded data removed]",
      "text/plain": [
       "<Figure size 640x480 with 1 Axes>"
      ]
     },
     "metadata": {},
     "output_type": "display_data"
    }
   ],
   "source": [
    "# plot the data of both the stocks\n",
    "plt.plot(gold_data['USD (AM)'], label='Gold')\n",
    "plt.plot(sp500_data['Value'], label='S&P 500')\n",
    "plt.legend()"
   ]
  },
  {
   "attachments": {},
   "cell_type": "markdown",
   "metadata": {},
   "source": [
    "These are two different assets. Someone could have a portfolio with both gold and the SP500. \n",
    "\n",
    "Let's draw the investment opportunity set for these two assets.\n",
    "\n",
    "> What is the investment opportunity set? It is the set of all possible portfolios that can be constructed from a given set of assets. In other words, it is the set of all possible combinations of the assets in the portfolio.\n",
    "\n",
    "We will also color code this set by how high their Sharpe Ratio is\n",
    "\n",
    "> What is the Sharpe Ratio? It is Sharpe Ratio = (Average Portfolio Return - Risk-Free Rate) / Portfolio Standard Deviation. A higher Sharpe ratio indicates that an investment has delivered a greater return for the amount of risk taken. Conversely, a lower Sharpe ratio indicates that an investment has delivered a lower return for the amount of risk taken. The Sharpe ratio is widely used by investors and portfolio managers as a tool to evaluate the performance of investments and to make investment decisions.\n"
   ]
  },
  {
   "cell_type": "code",
   "execution_count": 10,
   "metadata": {},
   "outputs": [
    {
     "ename": "ArgumentError",
     "evalue": "ArgumentError: Package numpy not found in current path:\n- Run `import Pkg; Pkg.add(\"numpy\")` to install the numpy package.\n",
     "output_type": "error",
     "traceback": [
      "ArgumentError: Package numpy not found in current path:\n",
      "- Run `import Pkg; Pkg.add(\"numpy\")` to install the numpy package.\n",
      "\n",
      "\n",
      "Stacktrace:\n",
      "  [1] require(into::Module, mod::Symbol)\n",
      "    @ Base ./loading.jl:967\n",
      "  [2] eval\n",
      "    @ ./boot.jl:373 [inlined]\n",
      "  [3] include_string(mapexpr::typeof(REPL.softscope), mod::Module, code::String, filename::String)\n",
      "    @ Base ./loading.jl:1196\n",
      "  [4] #invokelatest#2\n",
      "    @ ./essentials.jl:716 [inlined]\n",
      "  [5] invokelatest\n",
      "    @ ./essentials.jl:714 [inlined]\n",
      "  [6] (::VSCodeServer.var\"#198#199\"{VSCodeServer.NotebookRunCellArguments, String})()\n",
      "    @ VSCodeServer ~/.vscode/extensions/julialang.language-julia-1.38.2/scripts/packages/VSCodeServer/src/serve_notebook.jl:19\n",
      "  [7] withpath(f::VSCodeServer.var\"#198#199\"{VSCodeServer.NotebookRunCellArguments, String}, path::String)\n",
      "    @ VSCodeServer ~/.vscode/extensions/julialang.language-julia-1.38.2/scripts/packages/VSCodeServer/src/repl.jl:249\n",
      "  [8] notebook_runcell_request(conn::VSCodeServer.JSONRPC.JSONRPCEndpoint{Base.PipeEndpoint, Base.PipeEndpoint}, params::VSCodeServer.NotebookRunCellArguments)\n",
      "    @ VSCodeServer ~/.vscode/extensions/julialang.language-julia-1.38.2/scripts/packages/VSCodeServer/src/serve_notebook.jl:13\n",
      "  [9] dispatch_msg(x::VSCodeServer.JSONRPC.JSONRPCEndpoint{Base.PipeEndpoint, Base.PipeEndpoint}, dispatcher::VSCodeServer.JSONRPC.MsgDispatcher, msg::Dict{String, Any})\n",
      "    @ VSCodeServer.JSONRPC ~/.vscode/extensions/julialang.language-julia-1.38.2/scripts/packages/JSONRPC/src/typed.jl:67\n",
      " [10] serve_notebook(pipename::String, outputchannel_logger::Base.CoreLogging.SimpleLogger; crashreporting_pipename::String)\n",
      "    @ VSCodeServer ~/.vscode/extensions/julialang.language-julia-1.38.2/scripts/packages/VSCodeServer/src/serve_notebook.jl:139\n",
      " [11] top-level scope\n",
      "    @ ~/.vscode/extensions/julialang.language-julia-1.38.2/scripts/notebook/notebook.jl:32"
     ]
    }
   ],
   "source": [
    "\n",
    "# show efficient frontier of returns against volatility\n",
    "import numpy as np\n",
    "import matplotlib.pyplot as plt\n",
    "\n",
    "# Define the start and end dates\n",
    "start_date = \"2010-01-01\"\n",
    "end_date = pd.Timestamp.today().strftime(\"%Y-%m-%d\")\n",
    "\n",
    "# Retrieve the historical price data for gold and SP500\n",
    "gold_data = quandl.get(\"LBMA/GOLD\", start_date=start_date, end_date=end_date)\n",
    "sp500_data = quandl.get(\"MULTPL/SP500_REAL_PRICE_MONTH\", start_date=start_date, end_date=end_date)\n",
    "\n",
    "# Combine the two dataframes into a single portfolio dataframe\n",
    "portfolio_data = pd.concat([gold_data['USD (PM)'], sp500_data['Value']], axis=1)\n",
    "portfolio_data.columns = ['Gold', 'SP500']\n",
    "\n",
    "# export the data to a csv file\n",
    "portfolio_data.to_csv('portfolio_data.csv')\n",
    "\n",
    "# Calculate the daily returns for the portfolio\n",
    "daily_returns = portfolio_data.pct_change()\n",
    "\n",
    "# Calculate the cumulative returns for the portfolio\n",
    "cumulative_returns = (1 + daily_returns).cumprod() - 1\n",
    "\n",
    "# Calculate the mean and standard deviation of the daily returns\n",
    "mean_daily_returns = daily_returns.mean()\n",
    "cov_matrix = daily_returns.cov()\n",
    "\n",
    "# Set the number of runs of random portfolio weights\n",
    "num_portfolios = 25000\n",
    "\n",
    "# Set up array to hold results\n",
    "# We have increased the size of the array to hold the weight values for each stock\n",
    "results = np.zeros((4+len(portfolio_data.columns)-1, num_portfolios))\n",
    "\n",
    "for i in range(num_portfolios):\n",
    "    # Select random weights for portfolio holdings\n",
    "    weights = np.array(np.random.random(2))\n",
    "    # Rebalance weights to sum to 1\n",
    "    weights /= np.sum(weights)\n",
    "    \n",
    "    # Calculate portfolio return and volatility\n",
    "    portfolio_return = np.sum(mean_daily_returns * weights) * 252\n",
    "    portfolio_std_dev = np.sqrt(np.dot(weights.T, np.dot(cov_matrix, weights))) * np.sqrt(252)\n",
    "\n",
    "\n",
    "# Calculate Sharpe ratio\n",
    "    results[0,i] = portfolio_return\n",
    "    results[1,i] = portfolio_std_dev\n",
    "    risk_free_rate = 0 # notice that we assume, naively, that the risk-free rate is 0\n",
    "    # Sharpe ratio\n",
    "    results[2,i] = (results[0,i] - risk_free_rate) / results[1,i]\n",
    "    # Store weights\n",
    "    for j in range(len(weights)):\n",
    "        results[j+3,i] = weights[j]\n",
    "\n",
    "# Convert results array to Pandas DataFrame\n",
    "results_frame = pd.DataFrame(results.T, columns=['ret','stdev','sharpe','Gold','SP500'])\n",
    "\n",
    "# Locate position of portfolio with highest Sharpe ratio\n",
    "max_sharpe_port = results_frame.iloc[results_frame['sharpe'].idxmax()]\n",
    "\n",
    "# Locate positon of portfolio with minimum standard deviation\n",
    "min_vol_port = results_frame.iloc[results_frame['stdev'].idxmin()]\n",
    "\n",
    "# Create scatter plot coloured by Sharpe ratio\n",
    "plt.scatter(results_frame.stdev,results_frame.ret,c=results_frame.sharpe,cmap='RdYlBu')\n",
    "plt.xlabel('Volatility')\n",
    "plt.ylabel('Returns')\n",
    "plt.colorbar()\n",
    "# title of the plot\n",
    "plt.title('Efficient Frontier of Returns against Volatility: Gold vs. SP500')\n",
    "\n",
    "# Plot red star to highlight position of portfolio with highest Sharpe ratio\n",
    "# plt.scatter(max_sharpe_port[1],max_sharpe_port[0],marker=(5,1,0),color='r',s=1000)''\n",
    "\n",
    "\n"
   ]
  },
  {
   "attachments": {},
   "cell_type": "markdown",
   "metadata": {},
   "source": [
    "# Minimization Method (Newton-Rhapson)\n"
   ]
  },
  {
   "attachments": {},
   "cell_type": "markdown",
   "metadata": {},
   "source": [
    "##  Define the objective function: This function quantifies the risk-adjusted performance  of the portfolio. For instance, the Sharpe ratio, which is the ratio of the portfolio's  excess return (i.e., return above the risk-free rate) to its standard deviation, can be used  as the objective function"
   ]
  },
  {
   "attachments": {},
   "cell_type": "markdown",
   "metadata": {},
   "source": [
    "The objective function mentioned in the project is the Sharpe ratio. The Sharpe ratio is a widely used metric in finance for measuring the risk-adjusted performance of an investment portfolio. It is defined as the excess return of the portfolio over the risk-free rate divided by the portfolio's standard deviation. In mathematical notation, the Sharpe ratio can be expressed as:\n",
    "\n",
    "\\begin{equation}\n",
    "\\text{Sharpe Ratio} = \\frac{R_p - R_f}{\\sigma_p}\n",
    "\\end{equation}\n",
    "\n",
    "Where:\n",
    "\n",
    "- $R_p$ is the expected portfolio return\n",
    "- $R_f$ is the risk-free rate of return\n",
    "- $σ_p$ is the portfolio's standard deviation (i.e., volatility)\n",
    "\n",
    "The Sharpe ratio measures the excess return per unit of risk and is a useful tool for comparing the risk-adjusted performance of different portfolios. A higher Sharpe ratio indicates a better risk-adjusted performance, as the portfolio generates a higher return for each unit of risk taken. In the code provided, the Sharpe ratio is calculated for each randomly generated portfolio and stored in the results array. The portfolio with the highest Sharpe ratio is identified as the portfolio with the best risk-adjusted performance."
   ]
  },
  {
   "cell_type": "code",
   "execution_count": 6,
   "metadata": {},
   "outputs": [
    {
     "name": "stderr",
     "output_type": "stream",
     "text": [
      "\u001b[32m\u001b[1m   Resolving\u001b[22m\u001b[39m package versions...\n",
      "\u001b[32m\u001b[1m  No Changes\u001b[22m\u001b[39m to `~/.julia/environments/v1.7/Project.toml`\n",
      "\u001b[32m\u001b[1m  No Changes\u001b[22m\u001b[39m to `~/.julia/environments/v1.7/Manifest.toml`\n",
      "\u001b[32m\u001b[1m   Resolving\u001b[22m\u001b[39m package versions...\n",
      "\u001b[32m\u001b[1m  No Changes\u001b[22m\u001b[39m to `~/.julia/environments/v1.7/Project.toml`\n",
      "\u001b[32m\u001b[1m  No Changes\u001b[22m\u001b[39m to `~/.julia/environments/v1.7/Manifest.toml`\n",
      "\u001b[32m\u001b[1m   Resolving\u001b[22m\u001b[39m package versions...\n",
      "\u001b[32m\u001b[1m  No Changes\u001b[22m\u001b[39m to `~/.julia/environments/v1.7/Project.toml`\n",
      "\u001b[32m\u001b[1m  No Changes\u001b[22m\u001b[39m to `~/.julia/environments/v1.7/Manifest.toml`\n"
     ]
    }
   ],
   "source": [
    "using Pkg\n",
    "Pkg.add(\"DataFrames\")\n",
    "Pkg.add(\"Plots\")\n",
    "Pkg.add(\"Optim\")\n",
    "\n",
    "using DataFrames, Plots, Optim\n"
   ]
  },
  {
   "cell_type": "code",
   "execution_count": 8,
   "metadata": {},
   "outputs": [
    {
     "ename": "UndefVarError",
     "evalue": "UndefVarError: Dates not defined",
     "output_type": "error",
     "traceback": [
      "UndefVarError: Dates not defined\n",
      "\n",
      "Stacktrace:\n",
      " [1] top-level scope\n",
      "   @ ~/Downloads/ECON417/project/getData.ipynb:3"
     ]
    }
   ],
   "source": [
    "# Define the start and end dates\n",
    "start_date = \"2010-01-01\"\n",
    "end_date = Dates.format(Dates.now(), \"yyyy-mm-dd\")"
   ]
  },
  {
   "attachments": {},
   "cell_type": "markdown",
   "metadata": {},
   "source": [
    "# Define the start and end dates\n",
    "start_date = \"2010-01-01\"\n",
    "end_date = Dates.format(Dates.now(), \"yyyy-mm-dd\")\n",
    "\n",
    "# Retrieve the historical price data for gold and SP500\n",
    "gold_data = Quandl.get(\"LBMA/GOLD\", start_date=start_date, end_date=end_date)\n",
    "sp500_data = Quandl.get(\"MULTPL/SP500_REAL_PRICE_MONTH\", start_date=start_date, end_date=end_date)\n",
    "\n",
    "# Combine the two dataframes into a single portfolio dataframe\n",
    "portfolio_data = hcat(gold_data[:, \"USD (PM)\"], sp500_data[:, \"Value\"])\n",
    "rename!(portfolio_data, [\"Gold\", \"SP500\"])\n",
    "\n",
    "# Calculate the daily returns for the portfolio\n",
    "daily_returns = diff(log.(portfolio_data[2:end, :])) \n",
    "\n",
    "# Calculate the mean and standard deviation of the daily returns\n",
    "mean_daily_returns = mean(daily_returns, dims=1)\n",
    "cov_matrix = cov(daily_returns)\n",
    "\n",
    "# Define objective function\n",
    "function sharpe_ratio(weights::Array{Float64, 1})\n",
    "    portfolio_return = dot(mean_daily_returns, weights) * 252\n",
    "    portfolio_std_dev = sqrt(dot(weights, dot(cov_matrix, weights))) * sqrt(252)\n",
    "    risk_free_rate = 0.0 # assuming the risk-free rate is 0\n",
    "    return (portfolio_return - risk_free_rate) / portfolio_std_dev\n",
    "end\n",
    "\n",
    "# Define the optimization problem\n",
    "function neg_sharpe_ratio(weights::Array{Float64, 1})\n",
    "    return -sharpe_ratio(weights)\n",
    "end\n",
    "\n",
    "# Set initial weights and constraints\n",
    "init_weights = [0.5, 0.5]\n",
    "lower_bounds = [0.0, 0.0]\n",
    "upper_bounds = [1.0, 1.0]\n",
    "sum_constraint = Optim.LinearConstraints(A=[1.0 1.0], lb=[1.0], ub=[1.0])\n",
    "\n",
    "# Perform optimization\n",
    "opt_result = optimize(neg_sharpe_ratio, lower_bounds, upper_bounds, init_weights, Fminbox(); constraints=sum_constraint, autodiff=:forward)\n",
    "\n",
    "# Get the optimal weights\n",
    "optimal_weights = Optim.minimizer(opt_result)\n",
    "\n",
    "# Print the optimal weights\n",
    "println(\"Optimal weights: \", optimal_weights)\n"
   ]
  }
 ],
 "metadata": {
  "kernelspec": {
   "display_name": "Python 3",
   "language": "python",
   "name": "python3"
  },
  "language_info": {
   "codemirror_mode": {
    "name": "ipython",
    "version": 3
   },
   "file_extension": ".py",
   "mimetype": "text/x-python",
   "name": "python",
   "nbconvert_exporter": "python",
   "pygments_lexer": "ipython3",
   "version": "3.10.8"
  },
  "orig_nbformat": 4
 },
 "nbformat": 4,
 "nbformat_minor": 2
}
